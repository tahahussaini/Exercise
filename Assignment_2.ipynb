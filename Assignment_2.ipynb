{
 "cells": [
  {
   "cell_type": "markdown",
   "metadata": {},
   "source": [
    "<h3>Q no 1:  Write a python program to find number of occurrences of given number in a list with out using built-in methods</h3>\n",
    "<h4>**1 generate a list of some random num which is repeated again and again</h4>\n",
    "<h4>**2 take user input any number</h4>\n",
    "<h4>**3 find the number of occurrences of that num in your list</h4>\n",
    "<h4>**4 print some message to user with that result</h4>"
   ]
  },
  {
   "cell_type": "code",
   "execution_count": 6,
   "metadata": {},
   "outputs": [
    {
     "name": "stdout",
     "output_type": "stream",
     "text": [
      "Enter any number b/w 0 to 10 : 6\n"
     ]
    }
   ],
   "source": [
    "numbers = [1, 5, 8, 8, 5, 9, 5, 5, 5, 7, 5, 6, 2, 5, 2, 2, 3, 9, 8, 4, 5, 9, 5, 8, 4, 8, 8, 9, 6]\n",
    "\n",
    "m = int(input (\"Enter any number b/w 0 to 10 : \"))\n"
   ]
  },
  {
   "cell_type": "code",
   "execution_count": 7,
   "metadata": {},
   "outputs": [],
   "source": [
    "occurence = 0\n",
    "for n in numbers:\n",
    "    if m == n :\n",
    "        occurence = occurence + 1\n",
    "\n",
    "   \n",
    "        "
   ]
  },
  {
   "cell_type": "code",
   "execution_count": 8,
   "metadata": {},
   "outputs": [
    {
     "name": "stdout",
     "output_type": "stream",
     "text": [
      "Occurence of that number in my list 2\n"
     ]
    }
   ],
   "source": [
    "print(\"Occurence of that number in my list\",occurence)    "
   ]
  },
  {
   "cell_type": "markdown",
   "metadata": {},
   "source": [
    "<h3>Q no 2:   [\"www.zframez.com\", \"www.wikipedia.org\", \"www.asp.net\", \"www.abcd.in\"]\n",
    "<br/><br/><br/><br/><br/>\n",
    "Write a python program to print website suffixes (com , org , net ,in) from this list\n",
    "</h3>"
   ]
  },
  {
   "cell_type": "code",
   "execution_count": 13,
   "metadata": {},
   "outputs": [
    {
     "name": "stdout",
     "output_type": "stream",
     "text": [
      "com\n",
      "org\n",
      "net\n",
      "in\n"
     ]
    }
   ],
   "source": [
    "website =  [\"www.zframez.com\", \"www.wikipedia.org\", \"www.asp.net\", \"www.abcd.in\"]\n",
    "for x in website:\n",
    "    print((x.split('.'))[2])"
   ]
  },
  {
   "cell_type": "code",
   "execution_count": null,
   "metadata": {},
   "outputs": [],
   "source": []
  },
  {
   "cell_type": "markdown",
   "metadata": {},
   "source": [
    "<h3> Q no 3 : Write a program which can compute the factorial of a given numbers.</h3>\n",
    "<br/>\n",
    "<br/>\n",
    "<h4>**1 first take user input any number</h4>\n",
    "<h4>**2 calculate factorial of that input and then print the result to user</h4>"
   ]
  },
  {
   "cell_type": "code",
   "execution_count": 4,
   "metadata": {},
   "outputs": [
    {
     "name": "stdout",
     "output_type": "stream",
     "text": [
      "Enter any number: 6\n"
     ]
    }
   ],
   "source": [
    "num = int(input(\"Enter any number: \"))\n"
   ]
  },
  {
   "cell_type": "code",
   "execution_count": 6,
   "metadata": {},
   "outputs": [
    {
     "name": "stdout",
     "output_type": "stream",
     "text": [
      "Factorial of 6 is 720\n"
     ]
    }
   ],
   "source": [
    "nu = 0\n",
    "nu = num + 1\n",
    "if num > 0:\n",
    "    c = 1\n",
    "    for x in range(1,nu):\n",
    "        c = c * x\n",
    "    print(\"Factorial of\",num,\"is\",c)\n",
    "elif num < 0:\n",
    "    print(\"your number is negative\")\n",
    "    "
   ]
  },
  {
   "cell_type": "code",
   "execution_count": null,
   "metadata": {},
   "outputs": [],
   "source": []
  },
  {
   "cell_type": "code",
   "execution_count": null,
   "metadata": {},
   "outputs": [],
   "source": []
  },
  {
   "cell_type": "markdown",
   "metadata": {},
   "source": [
    "<h3>Q 4 (a) :  If you could invite anyone, living or deceased, to dinner, who\n",
    "would you invite? Make a list that includes at least three people you’d like to\n",
    "invite to dinner. Then use your list to print a message to each person, inviting\n",
    "them to dinner.</h3>"
   ]
  },
  {
   "cell_type": "code",
   "execution_count": 3,
   "metadata": {},
   "outputs": [
    {
     "name": "stdout",
     "output_type": "stream",
     "text": [
      "Hey Ali ,I am planning dinner at my place please come.\n",
      "Hey Hannan ,I am planning dinner at my place please come.\n",
      "Hey Omer ,I am planning dinner at my place please come.\n",
      "Hey Rafiq ,I am planning dinner at my place please come.\n"
     ]
    }
   ],
   "source": [
    "people = [\"Ali\", \"Hannan\", \"Omer\", \"Rafiq\"]\n",
    "for k in people:\n",
    "    \n",
    "    print(\"Hey\",k,\",I am planning dinner at my place please come.\")"
   ]
  },
  {
   "cell_type": "code",
   "execution_count": null,
   "metadata": {},
   "outputs": [],
   "source": []
  },
  {
   "cell_type": "code",
   "execution_count": null,
   "metadata": {},
   "outputs": [],
   "source": []
  },
  {
   "cell_type": "markdown",
   "metadata": {},
   "source": [
    "<h3>Q 4 (b) : You just heard that one of your guests can’t make the\n",
    "dinner, so you need to send out a new set of invitations. You’ll have to think of\n",
    "someone else to invite.<br/></br><br/>\n",
    "•\t Start with your program from Q 4 (a). Add a print statement at the\n",
    "end of your program stating the name of the guest who can’t make it.<br/></br><br/>\n",
    "•\t Modify your list, replacing the name of the guest who can’t make it with\n",
    "the name of the new person you are inviting.<br/></br><br/>\n",
    "•\t Print a second set of invitation messages, one for each person who is still\n",
    "in your list.<br/></br><br/></h3>"
   ]
  },
  {
   "cell_type": "code",
   "execution_count": 4,
   "metadata": {},
   "outputs": [
    {
     "name": "stdout",
     "output_type": "stream",
     "text": [
      "Who wont be able to come :Rafiq\n",
      "Rafiq wont be able to come\n",
      "Who will be coming instead of Rafiq :Wasif\n"
     ]
    }
   ],
   "source": [
    "r = input(\"Who wont be able to come :\")\n",
    "print(r,\"wont be able to come\")\n",
    "\n",
    "people[3] = input(\"Who will be coming instead of \"+r+\" :\")\n",
    "\n",
    "\n"
   ]
  },
  {
   "cell_type": "code",
   "execution_count": 6,
   "metadata": {},
   "outputs": [
    {
     "name": "stdout",
     "output_type": "stream",
     "text": [
      "Hey Ali ,I am planning dinner at my place please come. Heads up Rafiq wont be able to make it\n",
      "Hey Hannan ,I am planning dinner at my place please come. Heads up Rafiq wont be able to make it\n",
      "Hey Omer ,I am planning dinner at my place please come. Heads up Rafiq wont be able to make it\n",
      "Hey Wasif ,I am planning dinner at my place please come. Heads up Rafiq wont be able to make it\n"
     ]
    }
   ],
   "source": [
    "for p in people:\n",
    "    \n",
    "    print(\"Hey\",p,\",I am planning dinner at my place please come. Heads up \"+r+\" wont be able to make it\")"
   ]
  },
  {
   "cell_type": "code",
   "execution_count": null,
   "metadata": {},
   "outputs": [],
   "source": []
  },
  {
   "cell_type": "markdown",
   "metadata": {},
   "source": [
    "<h3>Q 4 (c) : You just found a bigger dinner table, so now more space is\n",
    "available. Think of three more guests to invite to dinner.<br/></br><br/>\n",
    "•\t Start with your program from Q 4 (a) and (b) Add a print\n",
    "statement to the end of your program informing people that you found a\n",
    "bigger dinner table.<br/></br><br/>\n",
    "•\t Use insert() to add one new guest to the beginning of your list.<br/></br><br/>\n",
    "•\t Use insert() to add one new guest to the middle of your list.<br/></br><br/>\n",
    "•\t Use append() to add one new guest to the end of your list.<br/></br><br/>\n",
    "•\t Print a new set of invitation messages, one for each person in your list.<br/></br><br/></h3>"
   ]
  },
  {
   "cell_type": "code",
   "execution_count": 9,
   "metadata": {},
   "outputs": [],
   "source": [
    "people.insert(0,\"Yasir\")\n",
    "people.insert(2,\"Ashad\")\n",
    "people.append(\"Abbas\")\n"
   ]
  },
  {
   "cell_type": "code",
   "execution_count": 12,
   "metadata": {},
   "outputs": [
    {
     "name": "stdout",
     "output_type": "stream",
     "text": [
      "Hey Yasir ,I am planning dinner at my place please come. Heads up Rafiq wont be able to make it. \n",
      " Bigger table was availible so more people are coming\n",
      "Hey Ali ,I am planning dinner at my place please come. Heads up Rafiq wont be able to make it. \n",
      " Bigger table was availible so more people are coming\n",
      "Hey Ashad ,I am planning dinner at my place please come. Heads up Rafiq wont be able to make it. \n",
      " Bigger table was availible so more people are coming\n",
      "Hey Hannan ,I am planning dinner at my place please come. Heads up Rafiq wont be able to make it. \n",
      " Bigger table was availible so more people are coming\n",
      "Hey Omer ,I am planning dinner at my place please come. Heads up Rafiq wont be able to make it. \n",
      " Bigger table was availible so more people are coming\n",
      "Hey Wasif ,I am planning dinner at my place please come. Heads up Rafiq wont be able to make it. \n",
      " Bigger table was availible so more people are coming\n",
      "Hey Abbas ,I am planning dinner at my place please come. Heads up Rafiq wont be able to make it. \n",
      " Bigger table was availible so more people are coming\n"
     ]
    }
   ],
   "source": [
    "for y in people:\n",
    "    \n",
    "    print(\"Hey\",y,\",I am planning dinner at my place please come. Heads up \"+r+\n",
    "          \" wont be able to make it. \\n Bigger table was availible so more people are coming\")"
   ]
  },
  {
   "cell_type": "code",
   "execution_count": null,
   "metadata": {},
   "outputs": [],
   "source": []
  },
  {
   "cell_type": "markdown",
   "metadata": {},
   "source": [
    "<h5> Q 5 : Here you have some data in variable below, your task is to make a list of specific word Surah then print the list and length of list</h5>\n"
   ]
  },
  {
   "cell_type": "code",
   "execution_count": 51,
   "metadata": {},
   "outputs": [],
   "source": [
    "data = \"Sura I Who believe in the Unseen, Sura Are steadfast in prayer, And spend Sura out of what We Have provided for them;\"\n"
   ]
  },
  {
   "cell_type": "code",
   "execution_count": 52,
   "metadata": {},
   "outputs": [
    {
     "name": "stdout",
     "output_type": "stream",
     "text": [
      "['Sura', 'Sura', 'Sura']\n",
      "3\n"
     ]
    }
   ],
   "source": [
    "l = data.split()\n",
    "d=[]\n",
    "for k in l:\n",
    "    if k == \"Sura\":\n",
    "        d.append(k)\n",
    "print(d)\n",
    "print(len(d))\n",
    "\n",
    "        "
   ]
  },
  {
   "cell_type": "code",
   "execution_count": null,
   "metadata": {},
   "outputs": [],
   "source": []
  }
 ],
 "metadata": {
  "kernelspec": {
   "display_name": "Python 3",
   "language": "python",
   "name": "python3"
  },
  "language_info": {
   "codemirror_mode": {
    "name": "ipython",
    "version": 3
   },
   "file_extension": ".py",
   "mimetype": "text/x-python",
   "name": "python",
   "nbconvert_exporter": "python",
   "pygments_lexer": "ipython3",
   "version": "3.6.5"
  }
 },
 "nbformat": 4,
 "nbformat_minor": 2
}
